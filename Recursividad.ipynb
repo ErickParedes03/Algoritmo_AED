{
  "nbformat": 4,
  "nbformat_minor": 0,
  "metadata": {
    "colab": {
      "name": "Recursividad.ipynb",
      "provenance": [],
      "authorship_tag": "ABX9TyOI7R4xzIW+v1uqf5gYEPDP",
      "include_colab_link": true
    },
    "kernelspec": {
      "name": "python3",
      "display_name": "Python 3"
    },
    "language_info": {
      "name": "python"
    }
  },
  "cells": [
    {
      "cell_type": "markdown",
      "metadata": {
        "id": "view-in-github",
        "colab_type": "text"
      },
      "source": [
        "<a href=\"https://colab.research.google.com/github/ErickParedes03/Algoritmo_AED/blob/main/Recursividad.ipynb\" target=\"_parent\"><img src=\"https://colab.research.google.com/assets/colab-badge.svg\" alt=\"Open In Colab\"/></a>"
      ]
    },
    {
      "cell_type": "markdown",
      "metadata": {
        "id": "jC6DZTeiUq6r"
      },
      "source": [
        "\n",
        "\n",
        "```\n",
        "# Temario\n",
        "- Recursividad\n",
        "- Listas enlazadas\n",
        "```\n",
        "\n"
      ]
    },
    {
      "cell_type": "markdown",
      "metadata": {
        "id": "ZtyHsHj4U3sZ"
      },
      "source": [
        "##Recursividad"
      ]
    },
    {
      "cell_type": "markdown",
      "metadata": {
        "id": "qeeLVTTjVIDS"
      },
      "source": [
        "Quiero que muestre: 6 5 4 3 2 1\n",
        "n = 6;\n",
        "n, n-1, n-2, n-3, n-4, n-5"
      ]
    },
    {
      "cell_type": "code",
      "metadata": {
        "colab": {
          "base_uri": "https://localhost:8080/"
        },
        "id": "TQS_dO06T45h",
        "outputId": "2e623c5d-f504-4508-b573-8aebf01f4b5d"
      },
      "source": [
        "%%writefile recursividadIDA.cpp\n",
        "#include<iostream>\n",
        "using namespace std;\n",
        "\n",
        "//la creacion es de derecha hacia izquierda\n",
        "//la eliminacion es de izquierda hacia derecha\n",
        "void funcion(int n){\n",
        "    if(n > 0){\n",
        "      cout<<n; //accion de ida\n",
        "      funcion(n - 1); //recursividad   \n",
        "    }\n",
        "}\n",
        "\n",
        "int main(){\n",
        "    funcion(6);\n",
        "    return 0;\n",
        "}"
      ],
      "execution_count": null,
      "outputs": [
        {
          "output_type": "stream",
          "name": "stdout",
          "text": [
            "Writing recursividadIDA.cpp\n"
          ]
        }
      ]
    },
    {
      "cell_type": "code",
      "metadata": {
        "colab": {
          "base_uri": "https://localhost:8080/"
        },
        "id": "QDN9jbPtV0tj",
        "outputId": "5a996db9-fca4-48f8-8c1d-a7f68b665c76"
      },
      "source": [
        "!g++ recursividadIDA.cpp && ./a.out"
      ],
      "execution_count": null,
      "outputs": [
        {
          "output_type": "stream",
          "name": "stdout",
          "text": [
            "654321"
          ]
        }
      ]
    },
    {
      "cell_type": "code",
      "metadata": {
        "colab": {
          "base_uri": "https://localhost:8080/"
        },
        "id": "_HqjH93lY_eI",
        "outputId": "c68049ba-d96d-4cf6-f5ee-ca91de740328"
      },
      "source": [
        "%%writefile recursividadVUELTA.cpp\n",
        "#include<iostream>\n",
        "using namespace std;\n",
        "\n",
        "//la creacion es de derecha hacia izquierda\n",
        "//la eliminacion es de izquierda hacia derecha\n",
        "void funcion(int n){\n",
        "    if(n > 0){\n",
        "      funcion(n - 1); //recursividad   \n",
        "      cout<<n; //accion de vuelta\n",
        "    }\n",
        "}\n",
        "\n",
        "int main(){\n",
        "    funcion(6);\n",
        "    return 0;\n",
        "}"
      ],
      "execution_count": null,
      "outputs": [
        {
          "output_type": "stream",
          "name": "stdout",
          "text": [
            "Overwriting recursividadVUELTA.cpp\n"
          ]
        }
      ]
    },
    {
      "cell_type": "code",
      "metadata": {
        "colab": {
          "base_uri": "https://localhost:8080/"
        },
        "id": "4Wu-rdFgZCso",
        "outputId": "8b51f909-ecb3-42d8-bd07-3f8765e23328"
      },
      "source": [
        "!g++ recursividadVUELTA.cpp && ./a.out"
      ],
      "execution_count": null,
      "outputs": [
        {
          "output_type": "stream",
          "name": "stdout",
          "text": [
            "123456"
          ]
        }
      ]
    },
    {
      "cell_type": "code",
      "metadata": {
        "colab": {
          "base_uri": "https://localhost:8080/"
        },
        "id": "QAG_fzdIaYwx",
        "outputId": "40d19a03-cf89-4343-a14a-74e6a9e9d2e2"
      },
      "source": [
        "%%writefile recursividadVECTOR.cpp\n",
        "#include<iostream>\n",
        "#include<vector>\n",
        "#include<cstdlib>\n",
        "#include<ctime>\n",
        "#include<algorithm>\n",
        "using namespace std;\n",
        "\n",
        "vector<int> numeros;\n",
        "\n",
        "//la creacion es de derecha hacia izquierda\n",
        "//la eliminacion es de izquierda hacia derecha\n",
        "void lectura(int n){\n",
        "    if(n > 0){\n",
        "      cout<<numeros.at(n)<<\" \"; //accion de vuelta\n",
        "      lectura(n - 1); //recursividad   \n",
        "      \n",
        "    }\n",
        "}\n",
        "\n",
        "int main(){\n",
        "    srand(time(0));\n",
        "    for(size_t i = 0; i < 50; ++i){\n",
        "        numeros.push_back(rand()%200);\n",
        "    }\n",
        "    sort(numeros.begin(), numeros.end(), [](int a, int b){return a > b;}); //estan ordenados de memor a mayor por el lambdas\n",
        "    lectura(numeros.size() - 1); //el -1 es para que lea de manera recursiva\n",
        "    return 0;\n",
        "}"
      ],
      "execution_count": null,
      "outputs": [
        {
          "output_type": "stream",
          "name": "stdout",
          "text": [
            "Overwriting recursividadVECTOR.cpp\n"
          ]
        }
      ]
    },
    {
      "cell_type": "code",
      "metadata": {
        "colab": {
          "base_uri": "https://localhost:8080/"
        },
        "id": "NSZmdx2bbNzK",
        "outputId": "cc8adee6-01b5-43a7-ae0f-a5673734d1fb"
      },
      "source": [
        "!g++ recursividadVECTOR.cpp && ./a.out"
      ],
      "execution_count": null,
      "outputs": [
        {
          "output_type": "stream",
          "name": "stdout",
          "text": [
            "2 3 3 12 15 17 21 21 29 30 31 37 40 44 52 52 55 55 57 59 63 70 71 73 74 79 86 94 98 100 100 103 105 106 128 131 131 132 141 148 149 149 150 150 160 174 186 199 199 "
          ]
        }
      ]
    },
    {
      "cell_type": "code",
      "metadata": {
        "colab": {
          "base_uri": "https://localhost:8080/"
        },
        "id": "t7kv26mpiWoA",
        "outputId": "ea5e6cdf-d2f7-41b8-b002-c1bb3485c6b1"
      },
      "source": [
        "%%writefile factorial.cpp\n",
        "#include<iostream>\n",
        "using namespace std;\n",
        "\n",
        "long factorial(long n){\n",
        "   if(n == 1){\n",
        "       cout<<n<<\" = \";\n",
        "       return 1; \n",
        "   } \n",
        "   else{\n",
        "       cout<<n<<\" * \";\n",
        "       return n * factorial(n - 1);\n",
        "   }\n",
        "}\n",
        "\n",
        "int main(){\n",
        "    cout<<\"El factorial de 5 es: \"<<factorial(5);\n",
        "    return 0;\n",
        "}"
      ],
      "execution_count": null,
      "outputs": [
        {
          "output_type": "stream",
          "name": "stdout",
          "text": [
            "Overwriting factorial.cpp\n"
          ]
        }
      ]
    },
    {
      "cell_type": "code",
      "metadata": {
        "colab": {
          "base_uri": "https://localhost:8080/"
        },
        "id": "aiV6Al0DiyXo",
        "outputId": "ea22f8d4-3bf0-48b6-e1b1-0f16a0a6fe01"
      },
      "source": [
        "!g++ factorial.cpp && ./a.out"
      ],
      "execution_count": null,
      "outputs": [
        {
          "output_type": "stream",
          "name": "stdout",
          "text": [
            "El factorial de 5 es: 5 * 4 * 3 * 2 * 1 = 120"
          ]
        }
      ]
    },
    {
      "cell_type": "code",
      "metadata": {
        "colab": {
          "base_uri": "https://localhost:8080/"
        },
        "id": "0Q5mk2CQkL6n",
        "outputId": "97aa35e0-1ebc-4cc0-bdcb-c33df9b92564"
      },
      "source": [
        "%%writefile fibonacci.cpp\n",
        "#include<iostream>\n",
        "using namespace std;\n",
        "\n",
        "int fibonacci(int n){\n",
        "    if(n == 1 || n == 2){\n",
        "        return 1;\n",
        "    }\n",
        "    else{\n",
        "        return fibonacci(n - 1) + fibonacci(n - 2);\n",
        "    }\n",
        "}\n",
        "\n",
        "int main(){\n",
        "    int num;\n",
        "    cout<<\"Ingrese el tamanio de la serie: \";\n",
        "    cin>>num;\n",
        "    cout<<endl;\n",
        "    for(size_t i = 1; i <= num; ++i){\n",
        "        cout<<fibonacci(i)<<\" \";\n",
        "    }\n",
        "    return 0;\n",
        "}"
      ],
      "execution_count": null,
      "outputs": [
        {
          "output_type": "stream",
          "name": "stdout",
          "text": [
            "Overwriting fibonacci.cpp\n"
          ]
        }
      ]
    },
    {
      "cell_type": "code",
      "metadata": {
        "colab": {
          "base_uri": "https://localhost:8080/"
        },
        "id": "jAZqB1aXk2_O",
        "outputId": "1e67f878-eb17-4c5c-a3ee-a2f10304b5a1"
      },
      "source": [
        "!g++ fibonacci.cpp && ./a.out"
      ],
      "execution_count": null,
      "outputs": [
        {
          "output_type": "stream",
          "name": "stdout",
          "text": [
            "Ingrese el tamanio de la serie: 5\n",
            "\n",
            "1 1 2 3 5 "
          ]
        }
      ]
    },
    {
      "cell_type": "code",
      "metadata": {
        "colab": {
          "base_uri": "https://localhost:8080/"
        },
        "id": "iFr2j5YsnKQp",
        "outputId": "78236275-66d4-48f0-e387-99121f00e04f"
      },
      "source": [
        "%%writefile triangulo.cpp\n",
        "#include<iostream>\n",
        "using namespace std;\n",
        "\n",
        "void columnas(int n){\n",
        "    if(n < 1){\n",
        "        return; //no retornes nada\n",
        "    }\n",
        "    else{\n",
        "        cout<<\" * \";\n",
        "        columnas(n - 1);\n",
        "    }\n",
        "}\n",
        "\n",
        "void filas(int n){\n",
        "    if(n <= 0){\n",
        "        return; //no retornes nada\n",
        "    }\n",
        "    columnas(n);\n",
        "    cout<<endl;\n",
        "    filas(n - 1);\n",
        "}\n",
        "\n",
        "int main(){\n",
        "    int f;\n",
        "    cin>>f;\n",
        "    filas(f);\n",
        "    return 0;\n",
        "}"
      ],
      "execution_count": null,
      "outputs": [
        {
          "output_type": "stream",
          "name": "stdout",
          "text": [
            "Overwriting triangulo.cpp\n"
          ]
        }
      ]
    },
    {
      "cell_type": "code",
      "metadata": {
        "colab": {
          "base_uri": "https://localhost:8080/"
        },
        "id": "mj7j1c39oXZg",
        "outputId": "18f0994d-0a77-49ff-d3a1-13abef48ebe7"
      },
      "source": [
        "!g++ triangulo.cpp && ./a.out"
      ],
      "execution_count": null,
      "outputs": [
        {
          "output_type": "stream",
          "name": "stdout",
          "text": [
            "6\n",
            " *  *  *  *  *  * \n",
            " *  *  *  *  * \n",
            " *  *  *  * \n",
            " *  *  * \n",
            " *  * \n",
            " * \n"
          ]
        }
      ]
    }
  ]
}