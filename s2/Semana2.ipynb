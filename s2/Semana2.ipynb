{
  "nbformat": 4,
  "nbformat_minor": 0,
  "metadata": {
    "colab": {
      "name": "Semana2.ipynb",
      "provenance": [],
      "collapsed_sections": [],
      "authorship_tag": "ABX9TyOYZHJjAATtf4DfDe/i/sw5"
    },
    "kernelspec": {
      "name": "python3",
      "display_name": "Python 3"
    },
    "language_info": {
      "name": "python"
    }
  },
  "cells": [
    {
      "cell_type": "code",
      "metadata": {
        "colab": {
          "base_uri": "https://localhost:8080/"
        },
        "id": "gEIm7QHo7O20",
        "outputId": "d38c57ed-c414-43bf-d6c1-0be04fd67b9b"
      },
      "source": [
        "%%writefile programa1.cpp\n",
        "#include<iostream>\n",
        "using namespace std;\n",
        "int main(){\n",
        "    cout<<\"Mi nombre es Erick\";\n",
        "    return 0;\n",
        "}\n"
      ],
      "execution_count": null,
      "outputs": [
        {
          "output_type": "stream",
          "text": [
            "Writing programa1.cpp\n"
          ],
          "name": "stdout"
        }
      ]
    },
    {
      "cell_type": "code",
      "metadata": {
        "id": "oJ7MxoEz_ocp"
      },
      "source": [
        "# compilando el codigo (crear el programa objeto-a.out)\n",
        "!g++ programa1.cpp"
      ],
      "execution_count": null,
      "outputs": []
    },
    {
      "cell_type": "code",
      "metadata": {
        "colab": {
          "base_uri": "https://localhost:8080/"
        },
        "id": "J-QCY8dRAIEJ",
        "outputId": "96dd0f2d-1db3-40f1-f468-e71331f4f247"
      },
      "source": [
        "#ejecutar el binario\n",
        "!./a.out"
      ],
      "execution_count": null,
      "outputs": [
        {
          "output_type": "stream",
          "text": [
            "Mi nombre es Erick"
          ],
          "name": "stdout"
        }
      ]
    },
    {
      "cell_type": "code",
      "metadata": {
        "colab": {
          "base_uri": "https://localhost:8080/"
        },
        "id": "PR88aZfRAmu_",
        "outputId": "032390ba-3304-42be-b2fb-905fac3f9951"
      },
      "source": [
        "!g++ programa1.cpp && ./a.out"
      ],
      "execution_count": null,
      "outputs": [
        {
          "output_type": "stream",
          "text": [
            "Mi nombre es Erick"
          ],
          "name": "stdout"
        }
      ]
    },
    {
      "cell_type": "code",
      "metadata": {
        "colab": {
          "base_uri": "https://localhost:8080/"
        },
        "id": "KW2iytl1A0mo",
        "outputId": "9e7ef933-a45f-468b-da89-c7c972f4eab5"
      },
      "source": [
        "#-o: para renombrar una salida\n",
        "!g++ programa1.cpp -o upc.exe && ./upc.exe"
      ],
      "execution_count": null,
      "outputs": [
        {
          "output_type": "stream",
          "text": [
            "Mi nombre es Erick"
          ],
          "name": "stdout"
        }
      ]
    },
    {
      "cell_type": "code",
      "metadata": {
        "id": "qFdJ1X9eB1Vv"
      },
      "source": [
        "#renombrando la salida y seleccionando el compilador\n",
        "#compilador: -std=c++11\n",
        "!g++ -std=c++11 programa1.cpp -o upc.exe && ./upc.exe"
      ],
      "execution_count": null,
      "outputs": []
    },
    {
      "cell_type": "markdown",
      "metadata": {
        "id": "mUxDpECZBU4h"
      },
      "source": [
        "##Templates\n"
      ]
    },
    {
      "cell_type": "code",
      "metadata": {
        "colab": {
          "base_uri": "https://localhost:8080/"
        },
        "id": "3zh3eSTwBbcH",
        "outputId": "ea664d5f-e2c6-496b-8781-a6ad1022390f"
      },
      "source": [
        "%%writefile programa2.cpp\n",
        "#include<iostream>\n",
        "using std::cout;\n",
        "typedef unsigned long long ull;\n",
        "class Numero{\n",
        "  ull e;\n",
        "  ull d;\n",
        "  public:\n",
        "    Numero(ull e = 0, ull d = 0):e(e), d(d){  }\n",
        "\n",
        "    ull getE(){ return e; }\n",
        "\n",
        "    void setE(ull e){ this->e = e; }\n",
        "\n",
        "    ull getD(){ return d; }\n",
        "\n",
        "    void setD(ull d){ this->d = d; }\n",
        "\n",
        "    void add(Numero n){\n",
        "        e += n.getE();\n",
        "        d += n.getD();\n",
        "    }\n",
        "\n",
        "    void print(){\n",
        "        cout<<e<<\"\\t\"<<d<<\"\\n\";\n",
        "    }\n",
        "};\n",
        "\n",
        "int main(){\n",
        "    Numero n1;\n",
        "    Numero n2(10);\n",
        "    Numero n3(10,20);\n",
        "\n",
        "    //agregando un valor externo\n",
        "    n1.add(30);\n",
        "    \n",
        "    n1.print();\n",
        "    n2.print();\n",
        "    n3.print();\n",
        "\n",
        "    \n",
        "    return 0;\n",
        "}"
      ],
      "execution_count": null,
      "outputs": [
        {
          "output_type": "stream",
          "text": [
            "Overwriting programa2.cpp\n"
          ],
          "name": "stdout"
        }
      ]
    },
    {
      "cell_type": "code",
      "metadata": {
        "colab": {
          "base_uri": "https://localhost:8080/"
        },
        "id": "Ig6qE1flHrl2",
        "outputId": "d7a324c7-495b-428d-e6bf-5e9701a37486"
      },
      "source": [
        "!g++ programa2.cpp && ./a.out"
      ],
      "execution_count": null,
      "outputs": [
        {
          "output_type": "stream",
          "text": [
            "30\t0\n",
            "10\t0\n",
            "10\t20\n"
          ],
          "name": "stdout"
        }
      ]
    },
    {
      "cell_type": "code",
      "metadata": {
        "colab": {
          "base_uri": "https://localhost:8080/"
        },
        "id": "w-1FV8l4KPaV",
        "outputId": "ad320cf3-19bd-4ed6-8911-d66f98114f17"
      },
      "source": [
        "%%writefile programa3.cpp\n",
        "#include<iostream>\n",
        "using std::cout;\n",
        "typedef unsigned long long ull;\n",
        "template <class T>\n",
        "class Numero{\n",
        "  T e;\n",
        "  T d;\n",
        "  public:\n",
        "    //Constructor\n",
        "    Numero(T e = 0, T d = 0):e(e), d(d){  }\n",
        "\n",
        "    T getE(){ return e; }\n",
        "\n",
        "    void setE(T e){ this->e = e; }\n",
        "\n",
        "    T getD(){ return d; }\n",
        "\n",
        "    void setD(T d){ this->d = d; }\n",
        "\n",
        "    //para que sume un valor externo\n",
        "    void add(Numero n){\n",
        "        e += n.getE();\n",
        "        d += n.getD();\n",
        "    }\n",
        "\n",
        "    void print(){\n",
        "        cout<<e<<\"\\t\"<<d<<\"\\n\";\n",
        "    }\n",
        "};\n",
        "\n",
        "int main(){\n",
        "    Numero<ull> n1(10,20);\n",
        "    Numero<int> n2(-10,-20);\n",
        "    Numero<short> n3(10,9);\n",
        "    n1.print();\n",
        "    n2.print();\n",
        "    n3.print();\n",
        "\n",
        "    return 0;\n",
        "}"
      ],
      "execution_count": null,
      "outputs": [
        {
          "output_type": "stream",
          "text": [
            "Overwriting programa3.cpp\n"
          ],
          "name": "stdout"
        }
      ]
    },
    {
      "cell_type": "code",
      "metadata": {
        "colab": {
          "base_uri": "https://localhost:8080/"
        },
        "id": "nyf5UO27K5Yl",
        "outputId": "ef008c31-bcfa-466d-ae98-474d374e86d8"
      },
      "source": [
        "!g++ programa3.cpp && ./a.out"
      ],
      "execution_count": null,
      "outputs": [
        {
          "output_type": "stream",
          "text": [
            "10\t20\n",
            "-10\t-20\n",
            "10\t9\n"
          ],
          "name": "stdout"
        }
      ]
    }
  ]
}